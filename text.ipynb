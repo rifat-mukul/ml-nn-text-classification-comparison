{
 "cells": [
  {
   "cell_type": "code",
   "execution_count": 1,
   "id": "7b887efb",
   "metadata": {},
   "outputs": [
    {
     "name": "stdout",
     "output_type": "stream",
     "text": [
      "hello world\n"
     ]
    }
   ],
   "source": [
    "print(\"hello world\")"
   ]
  },
  {
   "cell_type": "code",
   "execution_count": 3,
   "id": "d7c83c70",
   "metadata": {},
   "outputs": [],
   "source": [
    "import pandas as pd\n",
    "import matplotlib.pyplot as plt\n",
    "from wordcloud import WordCloud\n",
    "import nltk\n",
    "from nltk.corpus import stopwords\n",
    "import string\n",
    "from collections import Counter\n",
    "from nltk.tokenize import word_tokenize\n"
   ]
  },
  {
   "cell_type": "code",
   "execution_count": 20,
   "id": "be9825e6",
   "metadata": {},
   "outputs": [
    {
     "name": "stderr",
     "output_type": "stream",
     "text": [
      "[nltk_data] Downloading package punkt to /home/P2510670/nltk_data...\n",
      "[nltk_data]   Package punkt is already up-to-date!\n",
      "[nltk_data] Downloading package punkt_tab to\n",
      "[nltk_data]     /home/P2510670/nltk_data...\n",
      "[nltk_data]   Unzipping tokenizers/punkt_tab.zip.\n"
     ]
    },
    {
     "data": {
      "text/plain": [
       "True"
      ]
     },
     "execution_count": 20,
     "metadata": {},
     "output_type": "execute_result"
    }
   ],
   "source": [
    "nltk.download('punkt')\n",
    "nltk.download('punkt_tab')"
   ]
  },
  {
   "cell_type": "code",
   "execution_count": 5,
   "id": "4ad62500",
   "metadata": {},
   "outputs": [
    {
     "name": "stderr",
     "output_type": "stream",
     "text": [
      "Retrieving folder contents\n"
     ]
    },
    {
     "name": "stdout",
     "output_type": "stream",
     "text": [
      "Processing file 1JoLklqmArq0UioKrDKUi13BcLstZT_fK [Updated] Question Answer Classification Dataset[Test].csv\n"
     ]
    },
    {
     "name": "stderr",
     "output_type": "stream",
     "text": [
      "Retrieving folder contents completed\n",
      "Building directory structure\n",
      "Building directory structure completed\n",
      "Downloading...\n",
      "From: https://drive.google.com/uc?id=1JoLklqmArq0UioKrDKUi13BcLstZT_fK\n",
      "To: /home/P2510670/440_project/ml-nn-text-classification-comparison/test/[Updated] Question Answer Classification Dataset[Test].csv\n",
      "100%|██████████| 35.5M/35.5M [00:00<00:00, 41.5MB/s]\n",
      "Download completed\n",
      "Retrieving folder contents\n"
     ]
    },
    {
     "name": "stdout",
     "output_type": "stream",
     "text": [
      "Processing file 1eIx0dqsRvOo6VPzp3W4QEqisbAel_gMH Question Answer Classification Dataset 5[Training].csv\n"
     ]
    },
    {
     "name": "stderr",
     "output_type": "stream",
     "text": [
      "Retrieving folder contents completed\n",
      "Building directory structure\n",
      "Building directory structure completed\n",
      "Downloading...\n",
      "From (original): https://drive.google.com/uc?id=1eIx0dqsRvOo6VPzp3W4QEqisbAel_gMH\n",
      "From (redirected): https://drive.google.com/uc?id=1eIx0dqsRvOo6VPzp3W4QEqisbAel_gMH&confirm=t&uuid=5adb5acc-c63e-42ed-b409-2ac92e511ae6\n",
      "To: /home/P2510670/440_project/ml-nn-text-classification-comparison/train/Question Answer Classification Dataset 5[Training].csv\n",
      "100%|██████████| 165M/165M [00:02<00:00, 76.1MB/s] \n",
      "Download completed\n"
     ]
    },
    {
     "data": {
      "text/plain": [
       "['/home/P2510670/440_project/ml-nn-text-classification-comparison/train/Question Answer Classification Dataset 5[Training].csv']"
      ]
     },
     "execution_count": 5,
     "metadata": {},
     "output_type": "execute_result"
    }
   ],
   "source": [
    "import gdown\n",
    "\n",
    "# For the test dataset\n",
    "gdown.download_folder('https://drive.google.com/drive/folders/1i1Gz5wkcuPyJqDa2nzjd21DfWE2W_7xH?usp=sharing', quiet=False)\n",
    "\n",
    "# For the train dataset\n",
    "gdown.download_folder('https://drive.google.com/drive/folders/137N8KefqxccdnAmCfxSdaJYRN3pBDSZ5?usp=sharing', quiet=False)\n"
   ]
  },
  {
   "cell_type": "code",
   "execution_count": 6,
   "id": "1c6ddbcc",
   "metadata": {},
   "outputs": [
    {
     "name": "stdout",
     "output_type": "stream",
     "text": [
      "                                             QA Text                  Class\n",
      "0  Question Title:\\nWhy does Zebras have stripes?...  Science & Mathematics\n",
      "1  Question Title:\\nWhat did the itsy bitsy sipde...  Education & Reference\n",
      "2  Question Title:\\nWhat is the difference betwee...  Education & Reference\n",
      "3  Question Title:\\nWhy do women get PMS?\\nQuesti...                 Health\n",
      "4  Question Title:\\nIf your co-worker is guilty o...                 Health\n",
      "                                             QA Text                  Class\n",
      "0  Question Title:\\ni am good at web design amate...     Business & Finance\n",
      "1  Question Title:\\nMy daughter wants to be a Med...  Education & Reference\n",
      "2  Question Title:\\nIs brother Jesus our brother ...      Society & Culture\n",
      "3  Question Title:\\nwhat is I-20?\\nQuestion Conte...  Education & Reference\n",
      "4  Question Title:\\nwhat is a data disk?\\nQuestio...   Computers & Internet\n"
     ]
    }
   ],
   "source": [
    "import pandas as pd\n",
    "\n",
    "# Load the dataset with the correct paths\n",
    "test_data = pd.read_csv('/home/P2510670/440_project/ml-nn-text-classification-comparison/test/[Updated] Question Answer Classification Dataset[Test].csv')\n",
    "train_data = pd.read_csv('/home/P2510670/440_project/ml-nn-text-classification-comparison/train/Question Answer Classification Dataset 5[Training].csv')\n",
    "\n",
    "# Show the data\n",
    "print(test_data.head())\n",
    "print(train_data.head())\n",
    "\n"
   ]
  },
  {
   "cell_type": "code",
   "execution_count": 7,
   "id": "322d21ba",
   "metadata": {},
   "outputs": [
    {
     "name": "stdout",
     "output_type": "stream",
     "text": [
      "Test Data Types:\n",
      "QA Text    object\n",
      "Class      object\n",
      "dtype: object\n",
      "\n",
      "Train Data Types:\n",
      "QA Text    object\n",
      "Class      object\n",
      "dtype: object\n"
     ]
    }
   ],
   "source": [
    "# Check data types for test dataset\n",
    "print(\"Test Data Types:\")\n",
    "print(test_data.dtypes)\n",
    "\n",
    "# Check data types for train dataset\n",
    "print(\"\\nTrain Data Types:\")\n",
    "print(train_data.dtypes)\n"
   ]
  },
  {
   "cell_type": "markdown",
   "id": "8cdbf9d0",
   "metadata": {},
   "source": [
    "EDA"
   ]
  },
  {
   "cell_type": "code",
   "execution_count": 8,
   "id": "7650fb7b",
   "metadata": {},
   "outputs": [
    {
     "name": "stdout",
     "output_type": "stream",
     "text": [
      "Shape of Test Data: (59999, 2)\n",
      "Shape of Train Data: (280003, 2)\n"
     ]
    }
   ],
   "source": [
    "# Shape of the data\n",
    "print(\"Shape of Test Data:\", test_data.shape)\n",
    "print(\"Shape of Train Data:\", train_data.shape)\n"
   ]
  },
  {
   "cell_type": "code",
   "execution_count": 9,
   "id": "d74546a5",
   "metadata": {},
   "outputs": [
    {
     "data": {
      "text/plain": [
       "Class\n",
       "Entertainment & Music     28267\n",
       "Health                    28186\n",
       "Sports                    28074\n",
       "Science & Mathematics     28039\n",
       "Computers & Internet      27980\n",
       "Education & Reference     27972\n",
       "Business & Finance        27953\n",
       "Family & Relationships    27905\n",
       "Society & Culture         27881\n",
       "Politics & Government     27746\n",
       "Name: count, dtype: int64"
      ]
     },
     "execution_count": 9,
     "metadata": {},
     "output_type": "execute_result"
    }
   ],
   "source": [
    "train_data['Class'].value_counts()"
   ]
  },
  {
   "cell_type": "code",
   "execution_count": 10,
   "id": "28147ae0",
   "metadata": {},
   "outputs": [
    {
     "data": {
      "text/plain": [
       "Class\n",
       "Science & Mathematics     6000\n",
       "Education & Reference     6000\n",
       "Health                    6000\n",
       "Computers & Internet      6000\n",
       "Entertainment & Music     6000\n",
       "Business & Finance        6000\n",
       "Society & Culture         6000\n",
       "Politics & Government     6000\n",
       "Sports                    6000\n",
       "Family & Relationships    5999\n",
       "Name: count, dtype: int64"
      ]
     },
     "execution_count": 10,
     "metadata": {},
     "output_type": "execute_result"
    }
   ],
   "source": [
    "test_data['Class'].value_counts()\n"
   ]
  },
  {
   "cell_type": "code",
   "execution_count": 11,
   "id": "af496b02",
   "metadata": {},
   "outputs": [
    {
     "data": {
      "text/plain": [
       "QA Text    0\n",
       "Class      0\n",
       "dtype: int64"
      ]
     },
     "execution_count": 11,
     "metadata": {},
     "output_type": "execute_result"
    }
   ],
   "source": [
    "train_data.isnull().sum()"
   ]
  },
  {
   "cell_type": "code",
   "execution_count": 12,
   "id": "24b42db2",
   "metadata": {},
   "outputs": [
    {
     "data": {
      "text/plain": [
       "QA Text    0\n",
       "Class      0\n",
       "dtype: int64"
      ]
     },
     "execution_count": 12,
     "metadata": {},
     "output_type": "execute_result"
    }
   ],
   "source": [
    "test_data.isnull().sum()"
   ]
  },
  {
   "cell_type": "code",
   "execution_count": 13,
   "id": "7eb14f10",
   "metadata": {},
   "outputs": [
    {
     "data": {
      "image/png": "[encoded data removed]",
      "text/plain": [
       "<Figure size 1000x800 with 1 Axes>"
      ]
     },
     "metadata": {},
     "output_type": "display_data"
    }
   ],
   "source": [
    "class_plot = train_data['Class'].value_counts()\n",
    "plt.figure(figsize=(10,8))\n",
    "class_plot.plot(kind='bar', color='green', edgecolor='red')\n",
    "\n",
    "plt.title('Class Distribution')\n",
    "plt.xlabel('Class')\n",
    "plt.ylabel('Count')\n",
    "plt.xticks(rotation=90)\n",
    "plt.tight_layout()\n",
    "plt.show()"
   ]
  },
  {
   "cell_type": "code",
   "execution_count": 14,
   "id": "24adb11a",
   "metadata": {},
   "outputs": [
    {
     "data": {
      "image/png": "[encoded data removed]",
      "text/plain": [
       "<Figure size 1000x800 with 1 Axes>"
      ]
     },
     "metadata": {},
     "output_type": "display_data"
    }
   ],
   "source": [
    "class_plot = test_data['Class'].value_counts()\n",
    "plt.figure(figsize=(10,8))\n",
    "class_plot.plot(kind='bar', color='green', edgecolor='red')\n",
    "\n",
    "plt.title('Class Distribution')\n",
    "plt.xlabel('Class')\n",
    "plt.ylabel('Count')\n",
    "plt.xticks(rotation=90)\n",
    "plt.tight_layout()\n",
    "plt.show()"
   ]
  },
  {
   "cell_type": "code",
   "execution_count": 15,
   "id": "15e69773",
   "metadata": {},
   "outputs": [
    {
     "data": {
      "text/plain": [
       "np.int64(0)"
      ]
     },
     "execution_count": 15,
     "metadata": {},
     "output_type": "execute_result"
    }
   ],
   "source": [
    "train_data['QA Text'].isnull().sum()"
   ]
  },
  {
   "cell_type": "code",
   "execution_count": 10,
   "id": "068f74d5",
   "metadata": {},
   "outputs": [],
   "source": [
    "# text = ' '.join(data['QA Text'].astype(str))\n",
    "# wordcloud = WordCloud(width=1600, height=900, background_color='white').generate(text)\n",
    "\n",
    "# plt.figure(figsize=(12,8))\n",
    "\n",
    "# plt.imshow(wordcloud, interpolation='bilinear')\n",
    "# plt.axis('off')\n",
    "# plt.show()"
   ]
  },
  {
   "cell_type": "code",
   "execution_count": 16,
   "id": "1936ac0d",
   "metadata": {},
   "outputs": [
    {
     "data": {
      "text/html": [
       "<div>\n",
       "<style scoped>\n",
       "    .dataframe tbody tr th:only-of-type {\n",
       "        vertical-align: middle;\n",
       "    }\n",
       "\n",
       "    .dataframe tbody tr th {\n",
       "        vertical-align: top;\n",
       "    }\n",
       "\n",
       "    .dataframe thead th {\n",
       "        text-align: right;\n",
       "    }\n",
       "</style>\n",
       "<table border=\"1\" class=\"dataframe\">\n",
       "  <thead>\n",
       "    <tr style=\"text-align: right;\">\n",
       "      <th></th>\n",
       "      <th>QA Text</th>\n",
       "      <th>Class</th>\n",
       "    </tr>\n",
       "  </thead>\n",
       "  <tbody>\n",
       "    <tr>\n",
       "      <th>279998</th>\n",
       "      <td>Question Title:\\nWhat is the best way to learn...</td>\n",
       "      <td>Education &amp; Reference</td>\n",
       "    </tr>\n",
       "    <tr>\n",
       "      <th>279999</th>\n",
       "      <td>Question Title:\\nWhat is the current payroll o...</td>\n",
       "      <td>Sports</td>\n",
       "    </tr>\n",
       "    <tr>\n",
       "      <th>280000</th>\n",
       "      <td>Question Title:\\nWhat's your opinion on the ba...</td>\n",
       "      <td>Sports</td>\n",
       "    </tr>\n",
       "    <tr>\n",
       "      <th>280001</th>\n",
       "      <td>Question Title:\\nWhat do you think will happen...</td>\n",
       "      <td>Society &amp; Culture</td>\n",
       "    </tr>\n",
       "    <tr>\n",
       "      <th>280002</th>\n",
       "      <td>Question Title:\\nwhat am i thinking right now?...</td>\n",
       "      <td>Business &amp; Finance</td>\n",
       "    </tr>\n",
       "  </tbody>\n",
       "</table>\n",
       "</div>"
      ],
      "text/plain": [
       "                                                  QA Text  \\\n",
       "279998  Question Title:\\nWhat is the best way to learn...   \n",
       "279999  Question Title:\\nWhat is the current payroll o...   \n",
       "280000  Question Title:\\nWhat's your opinion on the ba...   \n",
       "280001  Question Title:\\nWhat do you think will happen...   \n",
       "280002  Question Title:\\nwhat am i thinking right now?...   \n",
       "\n",
       "                        Class  \n",
       "279998  Education & Reference  \n",
       "279999                 Sports  \n",
       "280000                 Sports  \n",
       "280001      Society & Culture  \n",
       "280002     Business & Finance  "
      ]
     },
     "execution_count": 16,
     "metadata": {},
     "output_type": "execute_result"
    }
   ],
   "source": [
    "train_data.tail(5)"
   ]
  },
  {
   "cell_type": "markdown",
   "id": "853a95a0",
   "metadata": {},
   "source": [
    "Basic Preprocessing"
   ]
  },
  {
   "cell_type": "code",
   "execution_count": 17,
   "id": "fa43286a",
   "metadata": {},
   "outputs": [],
   "source": [
    "train_data['QA Text'] = train_data['QA Text'].str.lower()"
   ]
  },
  {
   "cell_type": "code",
   "execution_count": 18,
   "id": "f19bbd69",
   "metadata": {},
   "outputs": [],
   "source": [
    "train_data['QA Text'] = train_data['QA Text'].apply(lambda x: x.translate(str.maketrans('','', string.punctuation)))"
   ]
  },
  {
   "cell_type": "code",
   "execution_count": 21,
   "id": "966e2a46",
   "metadata": {},
   "outputs": [],
   "source": [
    "train_data['QA Text'] = train_data['QA Text'].apply(lambda x: word_tokenize(x))"
   ]
  },
  {
   "cell_type": "code",
   "execution_count": null,
   "id": "907531cb",
   "metadata": {},
   "outputs": [],
   "source": [
    "stop_words = set(stopwords.words('english'))\n",
    "train_data['QA Text'] = train_data['QA Text'].apply(lambda x: [word for word in x if word not in stop_words])\n"
   ]
  },
  {
   "cell_type": "code",
   "execution_count": 22,
   "id": "85120efe",
   "metadata": {},
   "outputs": [
    {
     "data": {
      "text/plain": [
       "0    [question, title, i, am, good, at, web, design...\n",
       "1    [question, title, my, daughter, wants, to, be,...\n",
       "2    [question, title, is, brother, jesus, our, bro...\n",
       "3    [question, title, what, is, i20, question, con...\n",
       "4    [question, title, what, is, a, data, disk, que...\n",
       "Name: QA Text, dtype: object"
      ]
     },
     "execution_count": 22,
     "metadata": {},
     "output_type": "execute_result"
    }
   ],
   "source": [
    "train_data['QA Text'].head()"
   ]
  },
  {
   "cell_type": "code",
   "execution_count": 17,
   "id": "26a70168",
   "metadata": {},
   "outputs": [],
   "source": [
    "all_tokens = [word for text in data['QA Text'] for word in text]"
   ]
  },
  {
   "cell_type": "code",
   "execution_count": 18,
   "id": "3bc168ec",
   "metadata": {},
   "outputs": [
    {
     "name": "stdout",
     "output_type": "stream",
     "text": [
      "['question', 'best', 'answer', 'title', 'content', 'like', 'get', 'would', 'one', 'know']\n"
     ]
    }
   ],
   "source": [
    "word_freq = Counter(all_tokens)\n",
    "commom_10_words = [word for word, count in word_freq.most_common(10)]\n",
    "print(commom_10_words)"
   ]
  },
  {
   "cell_type": "code",
   "execution_count": null,
   "id": "ea33df1a",
   "metadata": {},
   "outputs": [],
   "source": []
  }
 ],
 "metadata": {
  "kernelspec": {
   "display_name": ".venv",
   "language": "python",
   "name": "python3"
  },
  "language_info": {
   "codemirror_mode": {
    "name": "ipython",
    "version": 3
   },
   "file_extension": ".py",
   "mimetype": "text/x-python",
   "name": "python",
   "nbconvert_exporter": "python",
   "pygments_lexer": "ipython3",
   "version": "3.12.7"
  }
 },
 "nbformat": 4,
 "nbformat_minor": 5
}
